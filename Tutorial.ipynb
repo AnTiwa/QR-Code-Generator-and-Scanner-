{
 "cells": [
  {
   "cell_type": "markdown",
   "metadata": {},
   "source": [
    "# Automatic Card Generation from Template \n",
    "## *Image Manipulation using Python*"
   ]
  },
  {
   "cell_type": "code",
   "execution_count": 86,
   "metadata": {},
   "outputs": [],
   "source": [
    "import pandas as pd\n",
    "from PIL import Image, ImageDraw, ImageFont"
   ]
  },
  {
   "cell_type": "code",
   "execution_count": 87,
   "metadata": {},
   "outputs": [],
   "source": [
    "from make_qr_code import generate_qr"
   ]
  },
  {
   "cell_type": "code",
   "execution_count": 88,
   "metadata": {},
   "outputs": [],
   "source": [
    "df = pd.read_csv(\"students.csv\")\n",
    "df = df.dropna()"
   ]
  },
  {
   "cell_type": "code",
   "execution_count": 89,
   "metadata": {},
   "outputs": [
    {
     "data": {
      "text/html": [
       "<div>\n",
       "<style scoped>\n",
       "    .dataframe tbody tr th:only-of-type {\n",
       "        vertical-align: middle;\n",
       "    }\n",
       "\n",
       "    .dataframe tbody tr th {\n",
       "        vertical-align: top;\n",
       "    }\n",
       "\n",
       "    .dataframe thead th {\n",
       "        text-align: right;\n",
       "    }\n",
       "</style>\n",
       "<table border=\"1\" class=\"dataframe\">\n",
       "  <thead>\n",
       "    <tr style=\"text-align: right;\">\n",
       "      <th></th>\n",
       "      <th>id</th>\n",
       "      <th>name</th>\n",
       "      <th>branch</th>\n",
       "      <th>year</th>\n",
       "    </tr>\n",
       "  </thead>\n",
       "  <tbody>\n",
       "    <tr>\n",
       "      <th>0</th>\n",
       "      <td>19CE1088</td>\n",
       "      <td>Anuj Tiwari</td>\n",
       "      <td>CE</td>\n",
       "      <td>2019</td>\n",
       "    </tr>\n",
       "    <tr>\n",
       "      <th>1</th>\n",
       "      <td>19CE1045</td>\n",
       "      <td>Rajan Singh</td>\n",
       "      <td>CE</td>\n",
       "      <td>2019</td>\n",
       "    </tr>\n",
       "    <tr>\n",
       "      <th>2</th>\n",
       "      <td>19CE2028</td>\n",
       "      <td>Kshitij Darekar</td>\n",
       "      <td>CE</td>\n",
       "      <td>2019</td>\n",
       "    </tr>\n",
       "    <tr>\n",
       "      <th>3</th>\n",
       "      <td>19IT1001</td>\n",
       "      <td>Jadoo</td>\n",
       "      <td>IT</td>\n",
       "      <td>2019</td>\n",
       "    </tr>\n",
       "    <tr>\n",
       "      <th>4</th>\n",
       "      <td>19IT1002</td>\n",
       "      <td>Rahul</td>\n",
       "      <td>IT</td>\n",
       "      <td>2019</td>\n",
       "    </tr>\n",
       "    <tr>\n",
       "      <th>5</th>\n",
       "      <td>19IT1003</td>\n",
       "      <td>Ganesh</td>\n",
       "      <td>IT</td>\n",
       "      <td>2019</td>\n",
       "    </tr>\n",
       "    <tr>\n",
       "      <th>6</th>\n",
       "      <td>19ET1001</td>\n",
       "      <td>Ankit</td>\n",
       "      <td>EXTC</td>\n",
       "      <td>2019</td>\n",
       "    </tr>\n",
       "  </tbody>\n",
       "</table>\n",
       "</div>"
      ],
      "text/plain": [
       "         id             name branch  year\n",
       "0  19CE1088      Anuj Tiwari     CE  2019\n",
       "1  19CE1045      Rajan Singh     CE  2019\n",
       "2  19CE2028  Kshitij Darekar     CE  2019\n",
       "3  19IT1001            Jadoo     IT  2019\n",
       "4  19IT1002            Rahul     IT  2019\n",
       "5  19IT1003           Ganesh     IT  2019\n",
       "6  19ET1001            Ankit   EXTC  2019"
      ]
     },
     "execution_count": 89,
     "metadata": {},
     "output_type": "execute_result"
    }
   ],
   "source": [
    "df"
   ]
  },
  {
   "cell_type": "code",
   "execution_count": 90,
   "metadata": {},
   "outputs": [],
   "source": [
    "records = df.to_dict(orient='record')"
   ]
  },
  {
   "cell_type": "code",
   "execution_count": 121,
   "metadata": {},
   "outputs": [],
   "source": [
    "def generate(data):\n",
    "    \n",
    "    A= data['id']\n",
    "    B= data['name']\n",
    "    C= data['branch']\n",
    "    D= data['year']\n",
    "    return generate_qr(A, B, C, D)\n",
    "    "
   ]
  },
  {
   "cell_type": "code",
   "execution_count": 122,
   "metadata": {
    "scrolled": true
   },
   "outputs": [],
   "source": [
    "for record in records:\n",
    "    qr = generate(record)\n",
    "    qr.save(f\"photos/{record['id']}.jpg\")"
   ]
  },
  {
   "cell_type": "code",
   "execution_count": 123,
   "metadata": {},
   "outputs": [],
   "source": [
    "font = ImageFont.truetype(\"OpenSans-Semibold.ttf\", size=23)"
   ]
  },
  {
   "cell_type": "code",
   "execution_count": 132,
   "metadata": {},
   "outputs": [],
   "source": [
    "def generate_card(data):\n",
    "    template = Image.open(\"template3.jpg\")\n",
    "    pic2 = Image.open(f\"original/{data['id']}.jpg\").resize((118, 135), Image.ANTIALIAS)\n",
    "    template.paste(pic2, (88,123, 206, 258))\n",
    "    draw = ImageDraw.Draw(template)\n",
    "    pic = Image.open(f\"photos/{data['id']}.jpg\").resize((110, 125), Image.ANTIALIAS)\n",
    "    template.paste(pic, (182, 368, 292, 493))\n",
    "    draw = ImageDraw.Draw(template)\n",
    "    draw.text((18, 277), \"Name : \"+data['name'], font=font, fill='black')\n",
    "    draw.text((18, 327), \"Roll No. : \" + str(data['id']), font=font, fill='black')\n",
    "    draw.text((18, 375), \"Branch : \"+data['branch'], font=font, fill='black')\n",
    "    draw.text((18, 426), \"Year : \"+str(data['year']), font=font, fill='black')\n",
    "    return template"
   ]
  },
  {
   "cell_type": "code",
   "execution_count": 133,
   "metadata": {
    "scrolled": false
   },
   "outputs": [],
   "source": [
    "for record in records:\n",
    "    card = generate_card(record)\n",
    "    card.save(f\"cards/{record['id']}.jpg\")"
   ]
  },
  {
   "cell_type": "code",
   "execution_count": null,
   "metadata": {},
   "outputs": [],
   "source": []
  }
 ],
 "metadata": {
  "kernelspec": {
   "display_name": "Python 3",
   "language": "python",
   "name": "python3"
  },
  "language_info": {
   "codemirror_mode": {
    "name": "ipython",
    "version": 3
   },
   "file_extension": ".py",
   "mimetype": "text/x-python",
   "name": "python",
   "nbconvert_exporter": "python",
   "pygments_lexer": "ipython3",
   "version": "3.8.3"
  }
 },
 "nbformat": 4,
 "nbformat_minor": 2
}
